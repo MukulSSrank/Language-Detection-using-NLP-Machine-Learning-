{
 "cells": [
  {
   "cell_type": "code",
   "execution_count": 6,
   "id": "4089befb-c373-4b6f-b55f-7647bf59148f",
   "metadata": {},
   "outputs": [
    {
     "name": "stdout",
     "output_type": "stream",
     "text": [
      "                                                Text  language\n",
      "0  klement gottwaldi surnukeha palsameeriti ning ...  Estonian\n",
      "1  sebes joseph pereira thomas  på eng the jesuit...   Swedish\n",
      "2  ถนนเจริญกรุง อักษรโรมัน thanon charoen krung เ...      Thai\n",
      "3  விசாகப்பட்டினம் தமிழ்ச்சங்கத்தை இந்துப் பத்திர...     Tamil\n",
      "4  de spons behoort tot het geslacht haliclona en...     Dutch\n"
     ]
    }
   ],
   "source": [
    "import pandas as pd\n",
    "import numpy as np\n",
    "from sklearn.feature_extraction.text import CountVectorizer\n",
    "from sklearn.model_selection import train_test_split\n",
    "from sklearn.naive_bayes import MultinomialNB\n",
    "\n",
    "data = pd.read_csv(\"language.csv\")\n",
    "print(data.head())\n"
   ]
  },
  {
   "cell_type": "markdown",
   "id": "a6bada71-7911-4d38-900b-ef2c646f96d6",
   "metadata": {},
   "source": [
    "CountVectorizer क्या करता है?\n",
    "यह text data को numerical data में convert करता है (bag-of-words model)।\n",
    "यह हर unique word को count करके एक matrix बनाता है।\n",
    "\n",
    "Bag of Words (BoW):\n",
    "Text को numerical format में बदलने की technique है। इसमें grammar, word order या context की परवाह नहीं की जाती — केवल शब्दों के count को feature माना जाता है।"
   ]
  },
  {
   "cell_type": "markdown",
   "id": "c80c7213-0f22-4203-bda7-2cc0550c7598",
   "metadata": {},
   "source": [
    "## Example\n",
    "\n"
   ]
  },
  {
   "cell_type": "code",
   "execution_count": 4,
   "id": "f92026f9-1127-4093-805b-7e59a3df1fc1",
   "metadata": {},
   "outputs": [
    {
     "name": "stdout",
     "output_type": "stream",
     "text": [
      "['data' 'learning' 'love' 'machine' 'science']\n",
      "[[1 0 1 0 1]\n",
      " [0 1 1 1 0]]\n"
     ]
    }
   ],
   "source": [
    "from sklearn.feature_extraction.text import CountVectorizer\n",
    "\n",
    "vectorizer = CountVectorizer()\n",
    "data = [\"love data science\", \"love machine learning\"]\n",
    "\n",
    "vectorized_data = vectorizer.fit_transform(data)\n",
    "print(vectorizer.get_feature_names_out())\n",
    "print(vectorized_data.toarray())\n"
   ]
  },
  {
   "cell_type": "code",
   "execution_count": 7,
   "id": "39cf2b49-a34b-4fa2-9232-6d6af120914a",
   "metadata": {},
   "outputs": [
    {
     "data": {
      "text/plain": [
       "Text        0\n",
       "language    0\n",
       "dtype: int64"
      ]
     },
     "execution_count": 7,
     "metadata": {},
     "output_type": "execute_result"
    }
   ],
   "source": [
    "data.isnull().sum()\n"
   ]
  },
  {
   "cell_type": "code",
   "execution_count": 8,
   "id": "f46e3812-4bf7-4e48-9c9e-968ef0f9ebe0",
   "metadata": {},
   "outputs": [
    {
     "data": {
      "text/plain": [
       "language\n",
       "Estonian      1000\n",
       "Swedish       1000\n",
       "English       1000\n",
       "Russian       1000\n",
       "Romanian      1000\n",
       "Persian       1000\n",
       "Pushto        1000\n",
       "Spanish       1000\n",
       "Hindi         1000\n",
       "Korean        1000\n",
       "Chinese       1000\n",
       "French        1000\n",
       "Portugese     1000\n",
       "Indonesian    1000\n",
       "Urdu          1000\n",
       "Latin         1000\n",
       "Turkish       1000\n",
       "Japanese      1000\n",
       "Dutch         1000\n",
       "Tamil         1000\n",
       "Thai          1000\n",
       "Arabic        1000\n",
       "Name: count, dtype: int64"
      ]
     },
     "execution_count": 8,
     "metadata": {},
     "output_type": "execute_result"
    }
   ],
   "source": [
    "data[\"language\"].value_counts()\n"
   ]
  },
  {
   "cell_type": "markdown",
   "id": "6668843b-4dc6-43f1-8e74-47fde61eb7b4",
   "metadata": {},
   "source": [
    "# splitting data\n"
   ]
  },
  {
   "cell_type": "code",
   "execution_count": 10,
   "id": "5ab50849-52f5-4305-ad4c-08f0cbef2d71",
   "metadata": {},
   "outputs": [],
   "source": [
    "x = np.array(data[\"Text\"])\n",
    "y = np.array(data[\"language\"])\n",
    "\n",
    "cv = CountVectorizer()\n",
    "X = cv.fit_transform(x)\n",
    "X_train, X_test, y_train, y_test = train_test_split(X, y, test_size=0.33,random_state=42)\n"
   ]
  },
  {
   "cell_type": "markdown",
   "id": "5d32b5a4-98c2-403b-9cb2-61a6da674978",
   "metadata": {},
   "source": [
    "# Model Training & Accuracy "
   ]
  },
  {
   "cell_type": "code",
   "execution_count": 11,
   "id": "1dd55309-225d-4269-87a8-0d165adb6210",
   "metadata": {},
   "outputs": [
    {
     "name": "stdout",
     "output_type": "stream",
     "text": [
      "The history saving thread hit an unexpected error (OperationalError('attempt to write a readonly database')).History will not be written to the database.\n"
     ]
    },
    {
     "data": {
      "text/plain": [
       "0.953168044077135"
      ]
     },
     "execution_count": 11,
     "metadata": {},
     "output_type": "execute_result"
    }
   ],
   "source": [
    "from sklearn.naive_bayes import MultinomialNB\n",
    "\n",
    "model = MultinomialNB()\n",
    "model.fit(X_train, y_train)\n",
    "model.score(X_test, y_test)\n"
   ]
  },
  {
   "cell_type": "markdown",
   "id": "4bbf580c-ec90-4bd0-85fa-1c7f4f98dec7",
   "metadata": {},
   "source": [
    "# User Input Example"
   ]
  },
  {
   "cell_type": "code",
   "execution_count": 13,
   "id": "0a19c2dc-1cf6-411e-a9b1-ead9957db69d",
   "metadata": {},
   "outputs": [
    {
     "name": "stdin",
     "output_type": "stream",
     "text": [
      "Enter a Text:  मुझे नई चीजें सीखना पसंद है\n"
     ]
    },
    {
     "name": "stdout",
     "output_type": "stream",
     "text": [
      "['Hindi']\n"
     ]
    }
   ],
   "source": [
    "user = input(\"Enter a Text: \")\n",
    "data = cv.transform([user]).toarray()\n",
    "output = model.predict(data)\n",
    "print(output)\n"
   ]
  },
  {
   "cell_type": "code",
   "execution_count": null,
   "id": "11b10a49-5790-4fd4-94c7-f549995bd076",
   "metadata": {},
   "outputs": [],
   "source": []
  }
 ],
 "metadata": {
  "kernelspec": {
   "display_name": "Python [conda env:base] *",
   "language": "python",
   "name": "conda-base-py"
  },
  "language_info": {
   "codemirror_mode": {
    "name": "ipython",
    "version": 3
   },
   "file_extension": ".py",
   "mimetype": "text/x-python",
   "name": "python",
   "nbconvert_exporter": "python",
   "pygments_lexer": "ipython3",
   "version": "3.12.7"
  }
 },
 "nbformat": 4,
 "nbformat_minor": 5
}
